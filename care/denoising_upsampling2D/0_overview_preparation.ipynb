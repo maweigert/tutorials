{
 "cells": [
  {
   "cell_type": "markdown",
   "metadata": {},
   "source": [
    "# Simple Tutorial for Content-Aware Image Restoration (CARE)"
   ]
  },
  {
   "cell_type": "markdown",
   "metadata": {},
   "source": [
    "# Use case: Restoration of low SNR 2D cell images\n",
    "\n",
    "\n",
    "\n",
    "In this Tutorial we demonstrate how to use [CARE](http://csbdeep.bioimagecomputing.com/) for a simple 2D denoising task, where corresponding pairs of low and high signal-to-noise ratio (SNR) images of cells are available. \n",
    "The high SNR images are acquistions of Human U2OS cells taken from the [Broad Bioimage Benchmark Collection](https://data.broadinstitute.org/bbbc/BBBC006/) and the low SNR images were created by synthetically adding *strong read-out and shot-noise* and applying *pixel binning* of 2x2, thus mimicking acquisitions at a very low light level.   \n",
    "\n",
    "![](imgs/denoising_binning_overview.png)\n",
    "\n",
    "Each image pair should be registered, which in a real application setting is best achieved by acquiring both stacks _interleaved_, i.e. as different channels that correspond to the different exposure/laser settings. \n",
    "\n",
    "Since the image pairs were synthetically created in this example, they are already aligned perfectly."
   ]
  },
  {
   "cell_type": "markdown",
   "metadata": {},
   "source": [
    "### Download the data\n"
   ]
  },
  {
   "cell_type": "code",
   "execution_count": null,
   "metadata": {},
   "outputs": [],
   "source": [
    "!wget https://zenodo.org/record/6973411/files/care_denoising_upsampling.zip?download=1 -O data.zip\n",
    "\n",
    "!unzip data.zip -d data"
   ]
  },
  {
   "cell_type": "code",
   "execution_count": null,
   "metadata": {},
   "outputs": [],
   "source": [
    "!tree -L 2 -d data"
   ]
  },
  {
   "cell_type": "code",
   "execution_count": null,
   "metadata": {},
   "outputs": [],
   "source": [
    "!tree data/train"
   ]
  },
  {
   "cell_type": "markdown",
   "metadata": {},
   "source": [
    "# Workflow for a simple 2D denoising example\n",
    "\n",
    "In general, a learned restoration pipeline will consist of the following 3 steps, which are thus split into 3 separate notebooks:\n",
    "\n",
    "\n",
    "### 1. Generation of training data \n",
    "\n",
    "* [1_datagen.ipynb](1_datagen.ipynb)\n",
    "\n",
    "### 2. Training of a restoration model \n",
    "\n",
    "* [2_training.ipynb](2_training.ipynb)\n",
    "    \n",
    "### 3. Prediction/Evaluation on holhold-out test set \n",
    "\n",
    "* [3_prediction.ipynb](3_prediction.ipynb)"
   ]
  },
  {
   "cell_type": "markdown",
   "metadata": {},
   "source": [
    "# Installation of dependencies"
   ]
  },
  {
   "cell_type": "markdown",
   "metadata": {},
   "source": [
    "\n",
    "To facilitate the training data generation as well as construction and training of the different neural enetwork architectures, we will use **CSBDeep**, a Python library for 2D/3D content-aware image restorations with convolutional neural networks (CARE). \n",
    "\n",
    "![](imgs/logo.png)\n",
    "\n",
    "This library provides for example:    \n",
    " \n",
    "* predefined architectures (residual U-Nets)\n",
    "* denoising, isotropic reconstruction, upsampling (2D/3D) workflows\n",
    "* data preprocessing/training data generation (e.g. normalisation, sampling)\n",
    "* tiled predictions\n",
    "* Export of trained models to Fiji  \n",
    "\n",
    "A full documentation can be found at  \n",
    "http://csbdeep.bioimagecomputing.com/doc/"
   ]
  },
  {
   "cell_type": "markdown",
   "metadata": {},
   "source": [
    "The following would install the package locally: \n",
    "\n",
    "\n",
    "\n"
   ]
  },
  {
   "cell_type": "code",
   "execution_count": null,
   "metadata": {},
   "outputs": [],
   "source": [
    "!pip install csbdeep"
   ]
  },
  {
   "cell_type": "code",
   "execution_count": null,
   "metadata": {},
   "outputs": [],
   "source": [
    "import csbdeep"
   ]
  },
  {
   "cell_type": "markdown",
   "metadata": {},
   "source": [
    "\n",
    "### We are done with setting up! "
   ]
  }
 ],
 "metadata": {
  "kernelspec": {
   "display_name": "Python 3 (ipykernel)",
   "language": "python",
   "name": "python3"
  },
  "language_info": {
   "codemirror_mode": {
    "name": "ipython",
    "version": 3
   },
   "file_extension": ".py",
   "mimetype": "text/x-python",
   "name": "python",
   "nbconvert_exporter": "python",
   "pygments_lexer": "ipython3",
   "version": "3.9.12"
  }
 },
 "nbformat": 4,
 "nbformat_minor": 2
}
